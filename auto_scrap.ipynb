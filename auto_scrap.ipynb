{
 "cells": [
  {
   "cell_type": "markdown",
   "metadata": {},
   "source": [
    "## Scrapping the dataset from AUTO.AM\n"
   ]
  },
  {
   "cell_type": "markdown",
   "metadata": {},
   "source": [
    "### Importing and Configuration"
   ]
  },
  {
   "cell_type": "code",
   "execution_count": null,
   "metadata": {},
   "outputs": [],
   "source": [
    "from selenium import webdriver \n",
    "from selenium.webdriver.common.by import By\n",
    "import time\n",
    "from selenium.common.exceptions import NoSuchElementException\n",
    "import pandas as pd"
   ]
  },
  {
   "cell_type": "code",
   "execution_count": 99,
   "metadata": {},
   "outputs": [],
   "source": [
    "options = webdriver.ChromeOptions()\n",
    "options.add_experimental_option(\"detach\", True)\n",
    "driver = webdriver.Chrome(options = options)\n",
    "#driver.maximize_window()"
   ]
  },
  {
   "cell_type": "code",
   "execution_count": 96,
   "metadata": {},
   "outputs": [],
   "source": [
    "driver.get('https://auto.am/lang/en')\n",
    "driver.set_window_size(1000, 1400)\n"
   ]
  },
  {
   "cell_type": "markdown",
   "metadata": {},
   "source": [
    "### Navigating to main page where the links of cars are present"
   ]
  },
  {
   "cell_type": "code",
   "execution_count": 89,
   "metadata": {},
   "outputs": [],
   "source": [
    "search_button = driver.find_element(By.ID, value='search-btn')\n",
    "search_button.click()"
   ]
  },
  {
   "cell_type": "code",
   "execution_count": 82,
   "metadata": {},
   "outputs": [
    {
     "ename": "ElementClickInterceptedException",
     "evalue": "Message: element click intercepted: Element <label for=\"ch-custcleared\">...</label> is not clickable at point (106, 683). Other element would receive the click: <div id=\"research\" class=\"fixed\">...</div>\n  (Session info: chrome=124.0.6367.119)\nStacktrace:\n0   chromedriver                        0x000000010055a8cc chromedriver + 4368588\n1   chromedriver                        0x0000000100552d60 chromedriver + 4336992\n2   chromedriver                        0x0000000100176c04 chromedriver + 289796\n3   chromedriver                        0x00000001001be88c chromedriver + 583820\n4   chromedriver                        0x00000001001bce20 chromedriver + 577056\n5   chromedriver                        0x00000001001bafac chromedriver + 569260\n6   chromedriver                        0x00000001001ba13c chromedriver + 565564\n7   chromedriver                        0x00000001001af940 chromedriver + 522560\n8   chromedriver                        0x00000001001af368 chromedriver + 521064\n9   chromedriver                        0x00000001001f15ec chromedriver + 792044\n10  chromedriver                        0x00000001001adab4 chromedriver + 514740\n11  chromedriver                        0x00000001001ae50c chromedriver + 517388\n12  chromedriver                        0x000000010051ede8 chromedriver + 4124136\n13  chromedriver                        0x0000000100523bd8 chromedriver + 4144088\n14  chromedriver                        0x00000001005047b0 chromedriver + 4016048\n15  chromedriver                        0x0000000100524508 chromedriver + 4146440\n16  chromedriver                        0x00000001004f6264 chromedriver + 3957348\n17  chromedriver                        0x0000000100543e50 chromedriver + 4275792\n18  chromedriver                        0x0000000100543fcc chromedriver + 4276172\n19  chromedriver                        0x00000001005529c0 chromedriver + 4336064\n20  libsystem_pthread.dylib             0x000000018b78f034 _pthread_start + 136\n21  libsystem_pthread.dylib             0x000000018b789e3c thread_start + 8\n",
     "output_type": "error",
     "traceback": [
      "\u001b[0;31m---------------------------------------------------------------------------\u001b[0m",
      "\u001b[0;31mElementClickInterceptedException\u001b[0m          Traceback (most recent call last)",
      "Cell \u001b[0;32mIn[82], line 2\u001b[0m\n\u001b[1;32m      1\u001b[0m maks \u001b[38;5;241m=\u001b[39m driver\u001b[38;5;241m.\u001b[39mfind_element(By\u001b[38;5;241m.\u001b[39mXPATH, value\u001b[38;5;241m=\u001b[39m\u001b[38;5;124m\"\u001b[39m\u001b[38;5;124m//*[contains(text(), \u001b[39m\u001b[38;5;124m'\u001b[39m\u001b[38;5;124mCustom Cleared\u001b[39m\u001b[38;5;124m'\u001b[39m\u001b[38;5;124m)]\u001b[39m\u001b[38;5;124m\"\u001b[39m)\n\u001b[0;32m----> 2\u001b[0m \u001b[43mmaks\u001b[49m\u001b[38;5;241;43m.\u001b[39;49m\u001b[43mclick\u001b[49m\u001b[43m(\u001b[49m\u001b[43m)\u001b[49m\n",
      "File \u001b[0;32m/Library/Frameworks/Python.framework/Versions/3.12/lib/python3.12/site-packages/selenium/webdriver/remote/webelement.py:93\u001b[0m, in \u001b[0;36mWebElement.click\u001b[0;34m(self)\u001b[0m\n\u001b[1;32m     91\u001b[0m \u001b[38;5;28;01mdef\u001b[39;00m \u001b[38;5;21mclick\u001b[39m(\u001b[38;5;28mself\u001b[39m) \u001b[38;5;241m-\u001b[39m\u001b[38;5;241m>\u001b[39m \u001b[38;5;28;01mNone\u001b[39;00m:\n\u001b[1;32m     92\u001b[0m \u001b[38;5;250m    \u001b[39m\u001b[38;5;124;03m\"\"\"Clicks the element.\"\"\"\u001b[39;00m\n\u001b[0;32m---> 93\u001b[0m     \u001b[38;5;28;43mself\u001b[39;49m\u001b[38;5;241;43m.\u001b[39;49m\u001b[43m_execute\u001b[49m\u001b[43m(\u001b[49m\u001b[43mCommand\u001b[49m\u001b[38;5;241;43m.\u001b[39;49m\u001b[43mCLICK_ELEMENT\u001b[49m\u001b[43m)\u001b[49m\n",
      "File \u001b[0;32m/Library/Frameworks/Python.framework/Versions/3.12/lib/python3.12/site-packages/selenium/webdriver/remote/webelement.py:394\u001b[0m, in \u001b[0;36mWebElement._execute\u001b[0;34m(self, command, params)\u001b[0m\n\u001b[1;32m    392\u001b[0m     params \u001b[38;5;241m=\u001b[39m {}\n\u001b[1;32m    393\u001b[0m params[\u001b[38;5;124m\"\u001b[39m\u001b[38;5;124mid\u001b[39m\u001b[38;5;124m\"\u001b[39m] \u001b[38;5;241m=\u001b[39m \u001b[38;5;28mself\u001b[39m\u001b[38;5;241m.\u001b[39m_id\n\u001b[0;32m--> 394\u001b[0m \u001b[38;5;28;01mreturn\u001b[39;00m \u001b[38;5;28;43mself\u001b[39;49m\u001b[38;5;241;43m.\u001b[39;49m\u001b[43m_parent\u001b[49m\u001b[38;5;241;43m.\u001b[39;49m\u001b[43mexecute\u001b[49m\u001b[43m(\u001b[49m\u001b[43mcommand\u001b[49m\u001b[43m,\u001b[49m\u001b[43m \u001b[49m\u001b[43mparams\u001b[49m\u001b[43m)\u001b[49m\n",
      "File \u001b[0;32m/Library/Frameworks/Python.framework/Versions/3.12/lib/python3.12/site-packages/selenium/webdriver/remote/webdriver.py:347\u001b[0m, in \u001b[0;36mWebDriver.execute\u001b[0;34m(self, driver_command, params)\u001b[0m\n\u001b[1;32m    345\u001b[0m response \u001b[38;5;241m=\u001b[39m \u001b[38;5;28mself\u001b[39m\u001b[38;5;241m.\u001b[39mcommand_executor\u001b[38;5;241m.\u001b[39mexecute(driver_command, params)\n\u001b[1;32m    346\u001b[0m \u001b[38;5;28;01mif\u001b[39;00m response:\n\u001b[0;32m--> 347\u001b[0m     \u001b[38;5;28;43mself\u001b[39;49m\u001b[38;5;241;43m.\u001b[39;49m\u001b[43merror_handler\u001b[49m\u001b[38;5;241;43m.\u001b[39;49m\u001b[43mcheck_response\u001b[49m\u001b[43m(\u001b[49m\u001b[43mresponse\u001b[49m\u001b[43m)\u001b[49m\n\u001b[1;32m    348\u001b[0m     response[\u001b[38;5;124m\"\u001b[39m\u001b[38;5;124mvalue\u001b[39m\u001b[38;5;124m\"\u001b[39m] \u001b[38;5;241m=\u001b[39m \u001b[38;5;28mself\u001b[39m\u001b[38;5;241m.\u001b[39m_unwrap_value(response\u001b[38;5;241m.\u001b[39mget(\u001b[38;5;124m\"\u001b[39m\u001b[38;5;124mvalue\u001b[39m\u001b[38;5;124m\"\u001b[39m, \u001b[38;5;28;01mNone\u001b[39;00m))\n\u001b[1;32m    349\u001b[0m     \u001b[38;5;28;01mreturn\u001b[39;00m response\n",
      "File \u001b[0;32m/Library/Frameworks/Python.framework/Versions/3.12/lib/python3.12/site-packages/selenium/webdriver/remote/errorhandler.py:229\u001b[0m, in \u001b[0;36mErrorHandler.check_response\u001b[0;34m(self, response)\u001b[0m\n\u001b[1;32m    227\u001b[0m         alert_text \u001b[38;5;241m=\u001b[39m value[\u001b[38;5;124m\"\u001b[39m\u001b[38;5;124malert\u001b[39m\u001b[38;5;124m\"\u001b[39m]\u001b[38;5;241m.\u001b[39mget(\u001b[38;5;124m\"\u001b[39m\u001b[38;5;124mtext\u001b[39m\u001b[38;5;124m\"\u001b[39m)\n\u001b[1;32m    228\u001b[0m     \u001b[38;5;28;01mraise\u001b[39;00m exception_class(message, screen, stacktrace, alert_text)  \u001b[38;5;66;03m# type: ignore[call-arg]  # mypy is not smart enough here\u001b[39;00m\n\u001b[0;32m--> 229\u001b[0m \u001b[38;5;28;01mraise\u001b[39;00m exception_class(message, screen, stacktrace)\n",
      "\u001b[0;31mElementClickInterceptedException\u001b[0m: Message: element click intercepted: Element <label for=\"ch-custcleared\">...</label> is not clickable at point (106, 683). Other element would receive the click: <div id=\"research\" class=\"fixed\">...</div>\n  (Session info: chrome=124.0.6367.119)\nStacktrace:\n0   chromedriver                        0x000000010055a8cc chromedriver + 4368588\n1   chromedriver                        0x0000000100552d60 chromedriver + 4336992\n2   chromedriver                        0x0000000100176c04 chromedriver + 289796\n3   chromedriver                        0x00000001001be88c chromedriver + 583820\n4   chromedriver                        0x00000001001bce20 chromedriver + 577056\n5   chromedriver                        0x00000001001bafac chromedriver + 569260\n6   chromedriver                        0x00000001001ba13c chromedriver + 565564\n7   chromedriver                        0x00000001001af940 chromedriver + 522560\n8   chromedriver                        0x00000001001af368 chromedriver + 521064\n9   chromedriver                        0x00000001001f15ec chromedriver + 792044\n10  chromedriver                        0x00000001001adab4 chromedriver + 514740\n11  chromedriver                        0x00000001001ae50c chromedriver + 517388\n12  chromedriver                        0x000000010051ede8 chromedriver + 4124136\n13  chromedriver                        0x0000000100523bd8 chromedriver + 4144088\n14  chromedriver                        0x00000001005047b0 chromedriver + 4016048\n15  chromedriver                        0x0000000100524508 chromedriver + 4146440\n16  chromedriver                        0x00000001004f6264 chromedriver + 3957348\n17  chromedriver                        0x0000000100543e50 chromedriver + 4275792\n18  chromedriver                        0x0000000100543fcc chromedriver + 4276172\n19  chromedriver                        0x00000001005529c0 chromedriver + 4336064\n20  libsystem_pthread.dylib             0x000000018b78f034 _pthread_start + 136\n21  libsystem_pthread.dylib             0x000000018b789e3c thread_start + 8\n"
     ]
    }
   ],
   "source": [
    "maks = driver.find_element(By.XPATH, value=\"//*[contains(text(), 'Custom Cleared')]\")\n",
    "maks.click()"
   ]
  },
  {
   "cell_type": "markdown",
   "metadata": {},
   "source": [
    "### Extracting the car links from main page"
   ]
  },
  {
   "cell_type": "code",
   "execution_count": 7,
   "metadata": {},
   "outputs": [],
   "source": [
    "car_links = []"
   ]
  },
  {
   "cell_type": "code",
   "execution_count": 8,
   "metadata": {},
   "outputs": [],
   "source": [
    "def link_exctractor():\n",
    "    xpath = \"//*[@id = 'search-result']//*[@class ='card-content' ]/a[@href]\"\n",
    "    links = driver.find_elements(By.XPATH, xpath)\n",
    "    for link in links:\n",
    "        car_links.append(link.get_attribute('href'))\n"
   ]
  },
  {
   "cell_type": "code",
   "execution_count": 9,
   "metadata": {},
   "outputs": [
    {
     "ename": "KeyboardInterrupt",
     "evalue": "",
     "output_type": "error",
     "traceback": [
      "\u001b[0;31m---------------------------------------------------------------------------\u001b[0m",
      "\u001b[0;31mKeyboardInterrupt\u001b[0m                         Traceback (most recent call last)",
      "Cell \u001b[0;32mIn[9], line 5\u001b[0m\n\u001b[1;32m      3\u001b[0m \u001b[38;5;28;01mif\u001b[39;00m current_page \u001b[38;5;241m==\u001b[39m \u001b[38;5;241m345\u001b[39m:\n\u001b[1;32m      4\u001b[0m     \u001b[38;5;28;01mbreak\u001b[39;00m\n\u001b[0;32m----> 5\u001b[0m \u001b[43mtime\u001b[49m\u001b[38;5;241;43m.\u001b[39;49m\u001b[43msleep\u001b[49m\u001b[43m(\u001b[49m\u001b[38;5;241;43m1\u001b[39;49m\u001b[43m)\u001b[49m\n\u001b[1;32m      6\u001b[0m link_exctractor()\n\u001b[1;32m      7\u001b[0m next_page \u001b[38;5;241m=\u001b[39m driver\u001b[38;5;241m.\u001b[39mfind_element(By\u001b[38;5;241m.\u001b[39mXPATH, \u001b[38;5;124m\"\u001b[39m\u001b[38;5;124m(//*[@class = \u001b[39m\u001b[38;5;124m'\u001b[39m\u001b[38;5;124mwaves-effect clickable nav\u001b[39m\u001b[38;5;124m'\u001b[39m\u001b[38;5;124m])[last()]\u001b[39m\u001b[38;5;124m\"\u001b[39m)\n",
      "\u001b[0;31mKeyboardInterrupt\u001b[0m: "
     ]
    }
   ],
   "source": [
    "current_page = 1\n",
    "while True:\n",
    "    if current_page == 345:\n",
    "        break\n",
    "    time.sleep(1)\n",
    "    link_exctractor()\n",
    "    next_page = driver.find_element(By.XPATH, \"(//*[@class = 'waves-effect clickable nav'])[last()]\")\n",
    "    next_page.click()\n",
    "    current_page += 1"
   ]
  },
  {
   "cell_type": "code",
   "execution_count": 57,
   "metadata": {},
   "outputs": [],
   "source": [
    "car_links = list(set(car_links))"
   ]
  },
  {
   "cell_type": "code",
   "execution_count": 58,
   "metadata": {},
   "outputs": [
    {
     "data": {
      "text/plain": [
       "10000"
      ]
     },
     "execution_count": 58,
     "metadata": {},
     "output_type": "execute_result"
    }
   ],
   "source": [
    "len(car_links)"
   ]
  },
  {
   "cell_type": "markdown",
   "metadata": {},
   "source": [
    "### Implementing the code that will iterate over the collected links and gather information about cars"
   ]
  },
  {
   "cell_type": "code",
   "execution_count": 59,
   "metadata": {},
   "outputs": [],
   "source": [
    "car_list = []"
   ]
  },
  {
   "cell_type": "code",
   "execution_count": 60,
   "metadata": {},
   "outputs": [],
   "source": [
    "failed_links = []"
   ]
  },
  {
   "cell_type": "code",
   "execution_count": 77,
   "metadata": {},
   "outputs": [],
   "source": [
    "\n",
    "def final(link_list, current_stage = 0):\n",
    "    for i in range(current_stage,len(link_list)):\n",
    "        try:\n",
    "            driver.get(link_list[i])\n",
    "            time.sleep(1)\n",
    "\n",
    "            dicto = dict()\n",
    "\n",
    "            car_xpath = \"//*[@id='sec-blue']/div[1]/div/div[1]/h1/a[3]\"\n",
    "            car = driver.find_element(By.XPATH,\n",
    "                                      car_xpath).get_attribute('innerHTML')\n",
    "            \n",
    "            model_xpath = \"//*[@id='sec-blue']/div[1]/div/div[1]/h1/a[4]\"\n",
    "            model = driver.find_element(By.XPATH,\n",
    "                                        model_xpath).get_attribute('innerHTML')\n",
    "            \n",
    "            year_xpath = \"//*[@id='sec-blue']/div[1]/div/div[1]/h1/a[2]\"\n",
    "            year = driver.find_element(By.XPATH,\n",
    "                                             year_xpath).get_attribute('innerHTML')\n",
    "            \n",
    "            price_xpath = \"//*[@id='pricedown']//span\"\n",
    "            price = driver.find_element(By.XPATH,\n",
    "                                        price_xpath).get_attribute('innerHTML')\n",
    "            \n",
    "            region_xpath = \"//*[@id='sec-blue']/div[1]/div/div[1]/div/span[2]\"\n",
    "            region = driver.find_element(By.XPATH, \n",
    "                                         region_xpath).get_attribute('innerHTML')\n",
    "\n",
    "            dicto['car'] = car\n",
    "            dicto['model'] = model\n",
    "            dicto['year'] = year\n",
    "            dicto['price'] = price\n",
    "            dicto['region'] = region\n",
    "            \n",
    "            trs = driver.find_elements(By.XPATH, \"//*[@id='tab1']//tbody/tr\")\n",
    "            for item in trs:\n",
    "                tds = item.find_elements(By.XPATH, \"td\")\n",
    "                dicto[tds[0].text] = tds[1].text\n",
    "            car_list.append(dicto)\n",
    "            dicto['link'] = f'{link_list[i]}'\n",
    "            current_stage += 1\n",
    "        except NoSuchElementException as e:\n",
    "            print(f'Error for the {i} th element')\n",
    "            failed_links.append(link_list[i])\n",
    "            current_stage += 1\n",
    "            continue\n",
    "    \n",
    "        except:\n",
    "            print(f'Error occured, we are on the {current_stage}th item')\n",
    "            return current_stage\n",
    "        \n",
    "\n",
    "    "
   ]
  },
  {
   "cell_type": "markdown",
   "metadata": {},
   "source": [
    "### manually launching the code with batches and then merging the dataset scrapped from each batch, since scrapping requires long process."
   ]
  },
  {
   "cell_type": "code",
   "execution_count": 98,
   "metadata": {},
   "outputs": [
    {
     "name": "stdout",
     "output_type": "stream",
     "text": [
      "Error occured, we are on the 9235th item\n"
     ]
    }
   ],
   "source": [
    "x = final(car_links, 9235)"
   ]
  },
  {
   "cell_type": "code",
   "execution_count": 100,
   "metadata": {},
   "outputs": [
    {
     "data": {
      "text/plain": [
       "8748"
      ]
     },
     "execution_count": 100,
     "metadata": {},
     "output_type": "execute_result"
    }
   ],
   "source": [
    "len(car_list)"
   ]
  },
  {
   "cell_type": "code",
   "execution_count": 92,
   "metadata": {},
   "outputs": [],
   "source": [
    "final_dataset = pd.DataFrame(car_list)"
   ]
  },
  {
   "cell_type": "code",
   "execution_count": 93,
   "metadata": {},
   "outputs": [
    {
     "data": {
      "text/html": [
       "<div>\n",
       "<style scoped>\n",
       "    .dataframe tbody tr th:only-of-type {\n",
       "        vertical-align: middle;\n",
       "    }\n",
       "\n",
       "    .dataframe tbody tr th {\n",
       "        vertical-align: top;\n",
       "    }\n",
       "\n",
       "    .dataframe thead th {\n",
       "        text-align: right;\n",
       "    }\n",
       "</style>\n",
       "<table border=\"1\" class=\"dataframe\">\n",
       "  <thead>\n",
       "    <tr style=\"text-align: right;\">\n",
       "      <th></th>\n",
       "      <th>car</th>\n",
       "      <th>model</th>\n",
       "      <th>year</th>\n",
       "      <th>price</th>\n",
       "      <th>region</th>\n",
       "      <th>Mileage</th>\n",
       "      <th>Body Style</th>\n",
       "      <th>Engine</th>\n",
       "      <th>Gearbox</th>\n",
       "      <th>Hand Drive</th>\n",
       "      <th>...</th>\n",
       "      <th>Engine Volume</th>\n",
       "      <th>Horsepower</th>\n",
       "      <th>Engine Cylinders</th>\n",
       "      <th>Drive train</th>\n",
       "      <th>Door Count</th>\n",
       "      <th>Wheels</th>\n",
       "      <th>Version</th>\n",
       "      <th>Battery capacity in kW</th>\n",
       "      <th>Number of electric motors</th>\n",
       "      <th>Range</th>\n",
       "    </tr>\n",
       "  </thead>\n",
       "  <tbody>\n",
       "    <tr>\n",
       "      <th>0</th>\n",
       "      <td>Nissan</td>\n",
       "      <td>Rogue</td>\n",
       "      <td>2018</td>\n",
       "      <td>15 900 $</td>\n",
       "      <td>Armenia, Yerevan</td>\n",
       "      <td>36000 miles</td>\n",
       "      <td>SUV / Truck</td>\n",
       "      <td>Gasoline</td>\n",
       "      <td>CVT Variable</td>\n",
       "      <td>Left</td>\n",
       "      <td>...</td>\n",
       "      <td>NaN</td>\n",
       "      <td>NaN</td>\n",
       "      <td>NaN</td>\n",
       "      <td>NaN</td>\n",
       "      <td>NaN</td>\n",
       "      <td>NaN</td>\n",
       "      <td>NaN</td>\n",
       "      <td>NaN</td>\n",
       "      <td>NaN</td>\n",
       "      <td>NaN</td>\n",
       "    </tr>\n",
       "    <tr>\n",
       "      <th>1</th>\n",
       "      <td>Mazda</td>\n",
       "      <td>3</td>\n",
       "      <td>2015</td>\n",
       "      <td>10 000 $</td>\n",
       "      <td>Armenia, Yerevan</td>\n",
       "      <td>137000 km</td>\n",
       "      <td>Sedan</td>\n",
       "      <td>Gasoline</td>\n",
       "      <td>Automatic</td>\n",
       "      <td>Left</td>\n",
       "      <td>...</td>\n",
       "      <td>2.0</td>\n",
       "      <td>155 hp</td>\n",
       "      <td>4</td>\n",
       "      <td>FWD</td>\n",
       "      <td>4</td>\n",
       "      <td>16\"</td>\n",
       "      <td>NaN</td>\n",
       "      <td>NaN</td>\n",
       "      <td>NaN</td>\n",
       "      <td>NaN</td>\n",
       "    </tr>\n",
       "    <tr>\n",
       "      <th>2</th>\n",
       "      <td>Mercedes-Benz</td>\n",
       "      <td>E 350</td>\n",
       "      <td>2011</td>\n",
       "      <td>15 000 $</td>\n",
       "      <td>Armenia, Yerevan</td>\n",
       "      <td>230000 km</td>\n",
       "      <td>Sedan</td>\n",
       "      <td>Gasoline</td>\n",
       "      <td>Automatic</td>\n",
       "      <td>Left</td>\n",
       "      <td>...</td>\n",
       "      <td>3.5</td>\n",
       "      <td>272 hp</td>\n",
       "      <td>6</td>\n",
       "      <td>RWD</td>\n",
       "      <td>4</td>\n",
       "      <td>18\"</td>\n",
       "      <td>NaN</td>\n",
       "      <td>NaN</td>\n",
       "      <td>NaN</td>\n",
       "      <td>NaN</td>\n",
       "    </tr>\n",
       "    <tr>\n",
       "      <th>3</th>\n",
       "      <td>Mercedes-Benz</td>\n",
       "      <td>E 230</td>\n",
       "      <td>1996</td>\n",
       "      <td>4 400 $</td>\n",
       "      <td>Armenia, Kotayk</td>\n",
       "      <td>330000 km</td>\n",
       "      <td>Sedan</td>\n",
       "      <td>Gasoline</td>\n",
       "      <td>Automatic</td>\n",
       "      <td>Left</td>\n",
       "      <td>...</td>\n",
       "      <td>NaN</td>\n",
       "      <td>NaN</td>\n",
       "      <td>NaN</td>\n",
       "      <td>NaN</td>\n",
       "      <td>NaN</td>\n",
       "      <td>NaN</td>\n",
       "      <td>NaN</td>\n",
       "      <td>NaN</td>\n",
       "      <td>NaN</td>\n",
       "      <td>NaN</td>\n",
       "    </tr>\n",
       "    <tr>\n",
       "      <th>4</th>\n",
       "      <td>Mercedes-Benz</td>\n",
       "      <td>GL 450</td>\n",
       "      <td>2007</td>\n",
       "      <td>16 500 $</td>\n",
       "      <td>Armenia, Yerevan</td>\n",
       "      <td>270000 km</td>\n",
       "      <td>SUV / Truck</td>\n",
       "      <td>Gasoline and gas</td>\n",
       "      <td>Automatic</td>\n",
       "      <td>Left</td>\n",
       "      <td>...</td>\n",
       "      <td>NaN</td>\n",
       "      <td>NaN</td>\n",
       "      <td>NaN</td>\n",
       "      <td>NaN</td>\n",
       "      <td>NaN</td>\n",
       "      <td>NaN</td>\n",
       "      <td>NaN</td>\n",
       "      <td>NaN</td>\n",
       "      <td>NaN</td>\n",
       "      <td>NaN</td>\n",
       "    </tr>\n",
       "    <tr>\n",
       "      <th>...</th>\n",
       "      <td>...</td>\n",
       "      <td>...</td>\n",
       "      <td>...</td>\n",
       "      <td>...</td>\n",
       "      <td>...</td>\n",
       "      <td>...</td>\n",
       "      <td>...</td>\n",
       "      <td>...</td>\n",
       "      <td>...</td>\n",
       "      <td>...</td>\n",
       "      <td>...</td>\n",
       "      <td>...</td>\n",
       "      <td>...</td>\n",
       "      <td>...</td>\n",
       "      <td>...</td>\n",
       "      <td>...</td>\n",
       "      <td>...</td>\n",
       "      <td>...</td>\n",
       "      <td>...</td>\n",
       "      <td>...</td>\n",
       "      <td>...</td>\n",
       "    </tr>\n",
       "    <tr>\n",
       "      <th>8484</th>\n",
       "      <td>Lexus</td>\n",
       "      <td>RX 350</td>\n",
       "      <td>2010</td>\n",
       "      <td>15 500 $</td>\n",
       "      <td>Armenia, Yerevan</td>\n",
       "      <td>91000 miles</td>\n",
       "      <td>SUV / Truck</td>\n",
       "      <td>Gasoline</td>\n",
       "      <td>Automatic</td>\n",
       "      <td>Left</td>\n",
       "      <td>...</td>\n",
       "      <td>3.5</td>\n",
       "      <td>275 hp</td>\n",
       "      <td>6</td>\n",
       "      <td>NaN</td>\n",
       "      <td>NaN</td>\n",
       "      <td>19\"</td>\n",
       "      <td>Lexus RX350 2010թ 3.5լ Sport</td>\n",
       "      <td>NaN</td>\n",
       "      <td>NaN</td>\n",
       "      <td>NaN</td>\n",
       "    </tr>\n",
       "    <tr>\n",
       "      <th>8485</th>\n",
       "      <td>Nissan</td>\n",
       "      <td>Altima</td>\n",
       "      <td>2013</td>\n",
       "      <td>9 600 $</td>\n",
       "      <td>Armenia, Yerevan</td>\n",
       "      <td>146000 miles</td>\n",
       "      <td>Sedan</td>\n",
       "      <td>Gasoline</td>\n",
       "      <td>CVT Variable</td>\n",
       "      <td>Left</td>\n",
       "      <td>...</td>\n",
       "      <td>2.5</td>\n",
       "      <td>173 hp</td>\n",
       "      <td>NaN</td>\n",
       "      <td>FWD</td>\n",
       "      <td>4</td>\n",
       "      <td>17\"</td>\n",
       "      <td>L33</td>\n",
       "      <td>NaN</td>\n",
       "      <td>NaN</td>\n",
       "      <td>NaN</td>\n",
       "    </tr>\n",
       "    <tr>\n",
       "      <th>8486</th>\n",
       "      <td>Mazda</td>\n",
       "      <td>CX5</td>\n",
       "      <td>2020</td>\n",
       "      <td>24 000 $</td>\n",
       "      <td>Armenia</td>\n",
       "      <td>31000 km</td>\n",
       "      <td>SUV / Truck</td>\n",
       "      <td>Gasoline</td>\n",
       "      <td>Automatic</td>\n",
       "      <td>Left</td>\n",
       "      <td>...</td>\n",
       "      <td>NaN</td>\n",
       "      <td>NaN</td>\n",
       "      <td>NaN</td>\n",
       "      <td>NaN</td>\n",
       "      <td>NaN</td>\n",
       "      <td>NaN</td>\n",
       "      <td>4X4 Grand Touring</td>\n",
       "      <td>NaN</td>\n",
       "      <td>NaN</td>\n",
       "      <td>NaN</td>\n",
       "    </tr>\n",
       "    <tr>\n",
       "      <th>8487</th>\n",
       "      <td>Volkswagen</td>\n",
       "      <td>Jetta</td>\n",
       "      <td>2013</td>\n",
       "      <td>11 500 $</td>\n",
       "      <td>Armenia, Yerevan</td>\n",
       "      <td>129900 km</td>\n",
       "      <td>Sedan</td>\n",
       "      <td>Gasoline</td>\n",
       "      <td>Automatic</td>\n",
       "      <td>Left</td>\n",
       "      <td>...</td>\n",
       "      <td>2.0</td>\n",
       "      <td>NaN</td>\n",
       "      <td>NaN</td>\n",
       "      <td>NaN</td>\n",
       "      <td>NaN</td>\n",
       "      <td>16\"</td>\n",
       "      <td>NaN</td>\n",
       "      <td>NaN</td>\n",
       "      <td>NaN</td>\n",
       "      <td>NaN</td>\n",
       "    </tr>\n",
       "    <tr>\n",
       "      <th>8488</th>\n",
       "      <td>Lexus</td>\n",
       "      <td>GX 470</td>\n",
       "      <td>2003</td>\n",
       "      <td>18 000 $</td>\n",
       "      <td>Armenia, Yerevan</td>\n",
       "      <td>190000 miles</td>\n",
       "      <td>SUV / Truck</td>\n",
       "      <td>Gas</td>\n",
       "      <td>Automatic</td>\n",
       "      <td>Left</td>\n",
       "      <td>...</td>\n",
       "      <td>NaN</td>\n",
       "      <td>238 hp</td>\n",
       "      <td>8</td>\n",
       "      <td>AWD 4x4</td>\n",
       "      <td>5</td>\n",
       "      <td>17\"</td>\n",
       "      <td>NaN</td>\n",
       "      <td>NaN</td>\n",
       "      <td>NaN</td>\n",
       "      <td>NaN</td>\n",
       "    </tr>\n",
       "  </tbody>\n",
       "</table>\n",
       "<p>8489 rows × 24 columns</p>\n",
       "</div>"
      ],
      "text/plain": [
       "                car    model  year     price            region       Mileage  \\\n",
       "0            Nissan   Rogue   2018  15 900 $  Armenia, Yerevan   36000 miles   \n",
       "1             Mazda       3   2015  10 000 $  Armenia, Yerevan     137000 km   \n",
       "2     Mercedes-Benz   E 350   2011  15 000 $  Armenia, Yerevan     230000 km   \n",
       "3     Mercedes-Benz   E 230   1996   4 400 $   Armenia, Kotayk     330000 km   \n",
       "4     Mercedes-Benz  GL 450   2007  16 500 $  Armenia, Yerevan     270000 km   \n",
       "...             ...      ...   ...       ...               ...           ...   \n",
       "8484          Lexus  RX 350   2010  15 500 $  Armenia, Yerevan   91000 miles   \n",
       "8485         Nissan  Altima   2013   9 600 $  Armenia, Yerevan  146000 miles   \n",
       "8486          Mazda     CX5   2020  24 000 $           Armenia      31000 km   \n",
       "8487     Volkswagen   Jetta   2013  11 500 $  Armenia, Yerevan     129900 km   \n",
       "8488          Lexus  GX 470   2003  18 000 $  Armenia, Yerevan  190000 miles   \n",
       "\n",
       "       Body Style            Engine       Gearbox Hand Drive  ...  \\\n",
       "0     SUV / Truck          Gasoline  CVT Variable       Left  ...   \n",
       "1           Sedan          Gasoline     Automatic       Left  ...   \n",
       "2           Sedan          Gasoline     Automatic       Left  ...   \n",
       "3           Sedan          Gasoline     Automatic       Left  ...   \n",
       "4     SUV / Truck  Gasoline and gas     Automatic       Left  ...   \n",
       "...           ...               ...           ...        ...  ...   \n",
       "8484  SUV / Truck          Gasoline     Automatic       Left  ...   \n",
       "8485        Sedan          Gasoline  CVT Variable       Left  ...   \n",
       "8486  SUV / Truck          Gasoline     Automatic       Left  ...   \n",
       "8487        Sedan          Gasoline     Automatic       Left  ...   \n",
       "8488  SUV / Truck               Gas     Automatic       Left  ...   \n",
       "\n",
       "     Engine Volume Horsepower Engine Cylinders Drive train Door Count Wheels  \\\n",
       "0              NaN        NaN              NaN         NaN        NaN    NaN   \n",
       "1              2.0     155 hp                4         FWD          4    16\"   \n",
       "2              3.5     272 hp                6         RWD          4    18\"   \n",
       "3              NaN        NaN              NaN         NaN        NaN    NaN   \n",
       "4              NaN        NaN              NaN         NaN        NaN    NaN   \n",
       "...            ...        ...              ...         ...        ...    ...   \n",
       "8484           3.5     275 hp                6         NaN        NaN    19\"   \n",
       "8485           2.5     173 hp              NaN         FWD          4    17\"   \n",
       "8486           NaN        NaN              NaN         NaN        NaN    NaN   \n",
       "8487           2.0        NaN              NaN         NaN        NaN    16\"   \n",
       "8488           NaN     238 hp                8     AWD 4x4          5    17\"   \n",
       "\n",
       "                           Version Battery capacity in kW  \\\n",
       "0                              NaN                    NaN   \n",
       "1                              NaN                    NaN   \n",
       "2                              NaN                    NaN   \n",
       "3                              NaN                    NaN   \n",
       "4                              NaN                    NaN   \n",
       "...                            ...                    ...   \n",
       "8484  Lexus RX350 2010թ 3.5լ Sport                    NaN   \n",
       "8485                           L33                    NaN   \n",
       "8486             4X4 Grand Touring                    NaN   \n",
       "8487                           NaN                    NaN   \n",
       "8488                           NaN                    NaN   \n",
       "\n",
       "     Number of electric motors Range  \n",
       "0                          NaN   NaN  \n",
       "1                          NaN   NaN  \n",
       "2                          NaN   NaN  \n",
       "3                          NaN   NaN  \n",
       "4                          NaN   NaN  \n",
       "...                        ...   ...  \n",
       "8484                       NaN   NaN  \n",
       "8485                       NaN   NaN  \n",
       "8486                       NaN   NaN  \n",
       "8487                       NaN   NaN  \n",
       "8488                       NaN   NaN  \n",
       "\n",
       "[8489 rows x 24 columns]"
      ]
     },
     "execution_count": 93,
     "metadata": {},
     "output_type": "execute_result"
    }
   ],
   "source": [
    "final_dataset"
   ]
  },
  {
   "cell_type": "code",
   "execution_count": 94,
   "metadata": {},
   "outputs": [],
   "source": [
    "final_dataset.to_csv('final_dataset.csv')"
   ]
  }
 ],
 "metadata": {
  "kernelspec": {
   "display_name": "Python 3",
   "language": "python",
   "name": "python3"
  },
  "language_info": {
   "codemirror_mode": {
    "name": "ipython",
    "version": 3
   },
   "file_extension": ".py",
   "mimetype": "text/x-python",
   "name": "python",
   "nbconvert_exporter": "python",
   "pygments_lexer": "ipython3",
   "version": "3.12.0"
  }
 },
 "nbformat": 4,
 "nbformat_minor": 2
}
